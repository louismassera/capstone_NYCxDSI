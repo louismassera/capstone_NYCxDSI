{
 "cells": [
  {
   "cell_type": "markdown",
   "metadata": {
    "colab_type": "text",
    "id": "TgONF3KxOLLy"
   },
   "source": [
    "## Getting MODA Waze Data"
   ]
  },
  {
   "cell_type": "markdown",
   "metadata": {
    "colab_type": "text",
    "id": "ZWT7qZTuOLL1"
   },
   "source": [
    "MODA gets Waze's crowd sourced traffic data through Waze's Connected Citizens Program. The data feed is in JSON format, and gets updated every 2 minutes. The raw data is stored in Microsoft Azure Storage. \n",
    "\n",
    "This notebook shows you how to:\n",
    "- access the \"raw-upload\" container in \"modawazedata\" Azure Storage through their rest API (Azure developer resources here: https://docs.microsoft.com/en-us/rest/api/azure/)\n",
    "- extract all the filenames of the raw feed in the container\n",
    "- grab the raw data and save it to a file\n",
    "\n",
    "Contact Mitsue Iwata, miwata@analytics.nyc.gov, with any questions\n",
    "Sept 2018"
   ]
  },
  {
   "cell_type": "code",
   "execution_count": 1,
   "metadata": {
    "colab": {
     "base_uri": "https://localhost:8080/",
     "height": 36
    },
    "colab_type": "code",
    "executionInfo": {
     "elapsed": 321,
     "status": "ok",
     "timestamp": 1537994336912,
     "user": {
      "displayName": "Ramy Fahim",
      "photoUrl": "",
      "userId": "05997090316456615547"
     },
     "user_tz": 240
    },
    "id": "qvDzoW_SOLL3",
    "outputId": "c830847a-e6a4-4dcd-857c-dafa88e87a27"
   },
   "outputs": [
    {
     "data": {
      "text/plain": [
       "60480"
      ]
     },
     "execution_count": 1,
     "metadata": {},
     "output_type": "execute_result"
    }
   ],
   "source": [
    "# We have been storing Waze data since June 22nd, 2018. \n",
    "# To get an approximation of the number of records stored, we multiply \n",
    "# number of weeks * number of days/week * number of hours/day * number of feeds/hour\n",
    "12 * 7 * 24 * 30"
   ]
  },
  {
   "cell_type": "markdown",
   "metadata": {
    "colab_type": "text",
    "id": "nGM2_dHeOLME"
   },
   "source": [
    "There are roughly 60,480 records from Waze. \n",
    "\n",
    "Note, this is a rough approximation. There have been a few short timeframes when the data was not collected \n",
    "because of server issues or other hiccups."
   ]
  },
  {
   "cell_type": "markdown",
   "metadata": {
    "colab_type": "text",
    "id": "Isgq7FGeOLMG"
   },
   "source": [
    "## Accessing Azure Storage through REST API\n",
    "\n",
    "We can call the API to get a list of filenames in a container. However, this only returns 5000 records at a time. Since there is no way to count the number of records, or \"blobs\", in an Azure container, we will use the approximation from above to loop through our requests in increments of 5000, and use the returned value for \"nextmarker\" to return the next set of results.\n",
    "\n",
    "\n",
    "https://docs.microsoft.com/en-us/rest/api/storageservices/list-blobs\n",
    "\n",
    "### MODA Azure Storage name is: modawazedata\n",
    "### Container name is: raw-upload\n",
    "\n"
   ]
  },
  {
   "cell_type": "code",
   "execution_count": 2,
   "metadata": {
    "colab": {},
    "colab_type": "code",
    "id": "3GooJ4Z7OLMI"
   },
   "outputs": [],
   "source": [
    "import requests\n",
    "from bs4 import BeautifulSoup\n",
    "import lxml\n",
    "import json\n",
    "from transform_waze_raw_functions import *"
   ]
  },
  {
   "cell_type": "code",
   "execution_count": 3,
   "metadata": {
    "colab": {},
    "colab_type": "code",
    "id": "sFjsRdurOLMR"
   },
   "outputs": [],
   "source": [
    "##helper functions\n",
    "MAXRES_STR = \"&maxresults=\"\n",
    "MARKER_STR = \"&marker=\"\n",
    "\n",
    "URL = \"https://modawazedata.blob.core.windows.net/raw-upload?restype=container&comp=list&timeout=60\"\n",
    "\n",
    "#build url with max results and next marker\n",
    "def build_string(max_res, next_marker, url=URL, maxres_str=MAXRES_STR, marker_str=MARKER_STR):\n",
    "    max_str = maxres_str + str(max_res)\n",
    "    marker = marker_str + next_marker\n",
    "    return url + max_str + marker\n",
    "\n",
    "#make request and soupify\n",
    "def get_request(url):\n",
    "    r = requests.get(url)\n",
    "    c = r.content\n",
    "    soup = BeautifulSoup(c,'lxml')\n",
    "    return soup\n",
    "\n",
    "#generate list of blob names\n",
    "def make_list_of_blobnames(blob_vals):\n",
    "    blob_names = []\n",
    "    for n in blob_vals:\n",
    "        blob_names.append(n.text)\n",
    "    return blob_names\n",
    "\n",
    "#get request and return list of filenames and next marker\n",
    "def get_filenames_and_marker(soup):\n",
    "    soup_name = soup.find_all('name')\n",
    "    \n",
    "    #generate list of blobnames\n",
    "    filename_list = make_list_of_blobnames(soup_name)\n",
    "    \n",
    "    #get next marker\n",
    "    marker = soup.find_all('nextmarker')[0].text\n",
    "    \n",
    "    return filename_list, marker\n",
    "\n",
    "#use recursive method with max_results to get all filenames in container \n",
    "def get_next_marker_vals(rec_cnt, marker, url, all_blobs):\n",
    "    if rec_cnt == 0:\n",
    "        return all_blobs\n",
    "    else:\n",
    "        new_url = build_string(rec_cnt, marker, url=url, maxres_str=MAXRES_STR, marker_str=MARKER_STR)\n",
    "        #print(\"new URL in recursion \", new_url)\n",
    "        soup = get_request(new_url)\n",
    "        blob_list, marker = get_filenames_and_marker(soup)\n",
    "        all_blobs += blob_list\n",
    "        print('number of blob filenames ', len(all_blobs))\n",
    "        rec_cnt = rec_cnt-5000\n",
    "        print('record count ', rec_cnt)\n",
    "        \n",
    "        return get_next_marker_vals(rec_cnt, marker, url, all_blobs)"
   ]
  },
  {
   "cell_type": "code",
   "execution_count": 4,
   "metadata": {
    "colab": {},
    "colab_type": "code",
    "id": "H5LpqUXDOLMX",
    "outputId": "63789faf-7455-4ebc-fe3b-566cf1cc8b95"
   },
   "outputs": [
    {
     "name": "stdout",
     "output_type": "stream",
     "text": [
      "number of blob filenames  10000\n",
      "record count  65000\n",
      "number of blob filenames  15000\n",
      "record count  60000\n",
      "number of blob filenames  20000\n",
      "record count  55000\n",
      "number of blob filenames  25000\n",
      "record count  50000\n",
      "number of blob filenames  30000\n",
      "record count  45000\n",
      "number of blob filenames  35000\n",
      "record count  40000\n",
      "number of blob filenames  40000\n",
      "record count  35000\n",
      "number of blob filenames  45000\n",
      "record count  30000\n",
      "number of blob filenames  50000\n",
      "record count  25000\n",
      "number of blob filenames  55000\n",
      "record count  20000\n",
      "number of blob filenames  60000\n",
      "record count  15000\n",
      "number of blob filenames  65000\n",
      "record count  10000\n",
      "number of blob filenames  70000\n",
      "record count  5000\n",
      "number of blob filenames  73535\n",
      "record count  0\n"
     ]
    }
   ],
   "source": [
    "NUM_RECORDS = 70000 #increments of 5000\n",
    "MAXRES_STR = \"&maxresults=\"\n",
    "MARKER_STR = \"&marker=\"\n",
    "\n",
    "url = \"https://modawazedata.blob.core.windows.net/raw-upload?restype=container&comp=list&timeout=60\"\n",
    "\n",
    "#create list object for all blobs names\n",
    "all_blobs = []\n",
    "\n",
    "#make first call to url and get the nextmarker value for subsequent calls\n",
    "s = get_request(url)\n",
    "blob_list, mark = get_filenames_and_marker(s)\n",
    "all_blobs += blob_list # add blob names to list\n",
    "\n",
    "blobnames = get_next_marker_vals(NUM_RECORDS, mark, url, all_blobs)"
   ]
  },
  {
   "cell_type": "code",
   "execution_count": 5,
   "metadata": {
    "colab": {},
    "colab_type": "code",
    "id": "ZDjbEBGROLMf",
    "outputId": "da4437cd-0a6c-4ace-a5ce-4bf3458fd5a9"
   },
   "outputs": [
    {
     "name": "stdout",
     "output_type": "stream",
     "text": [
      "73535\n",
      "73535\n"
     ]
    }
   ],
   "source": [
    "print(len(blobnames))\n",
    "print(len(set(blobnames)))"
   ]
  },
  {
   "cell_type": "markdown",
   "metadata": {
    "colab_type": "text",
    "id": "S3uu-nzLOLMq"
   },
   "source": [
    "This code isn't perfect - there looks to be some redundancy, but we have about 60K filenames!"
   ]
  },
  {
   "cell_type": "code",
   "execution_count": 6,
   "metadata": {
    "colab": {},
    "colab_type": "code",
    "id": "FrDjBQkSOLMt",
    "outputId": "6c3659e8-471b-4503-9a01-683be6eec2f8"
   },
   "outputs": [
    {
     "data": {
      "text/plain": [
       "['wazeprocessorraw_2018-06-22T20:04:00.3740299Z.json',\n",
       " 'wazeprocessorraw_2018-06-22T20:06:00.7231344Z.json',\n",
       " 'wazeprocessorraw_2018-06-22T20:08:00.9739038Z.json',\n",
       " 'wazeprocessorraw_2018-06-22T20:10:00.6637321Z.json',\n",
       " 'wazeprocessorraw_2018-06-22T20:12:00.2506104Z.json',\n",
       " 'wazeprocessorraw_2018-06-22T20:14:00.7759341Z.json',\n",
       " 'wazeprocessorraw_2018-06-22T20:16:00.2133851Z.json',\n",
       " 'wazeprocessorraw_2018-06-22T20:18:00.4600203Z.json',\n",
       " 'wazeprocessorraw_2018-06-22T20:20:00.7461843Z.json',\n",
       " 'wazeprocessorraw_2018-06-22T20:22:01.1014014Z.json']"
      ]
     },
     "execution_count": 6,
     "metadata": {},
     "output_type": "execute_result"
    }
   ],
   "source": [
    "blobnames[:10]"
   ]
  },
  {
   "cell_type": "markdown",
   "metadata": {
    "colab_type": "text",
    "id": "i71poNtAOLM4"
   },
   "source": [
    "## Raw File URL\n",
    "\n",
    "Now we have to build the url to grab the raw file, then we can write it to a local file."
   ]
  },
  {
   "cell_type": "code",
   "execution_count": 7,
   "metadata": {
    "colab": {},
    "colab_type": "code",
    "id": "qGkgZp6eOLM6",
    "outputId": "8d19503c-624f-4f27-fd3a-ace796475fc2"
   },
   "outputs": [
    {
     "data": {
      "text/plain": [
       "['https://modawazedata.blob.core.windows.net/raw-upload/wazeprocessorraw_2018-09-07T17:40:00.5878197Z.json',\n",
       " 'https://modawazedata.blob.core.windows.net/raw-upload/wazeprocessorraw_2018-08-25T18:58:01.0062475Z.json',\n",
       " 'https://modawazedata.blob.core.windows.net/raw-upload/wazeprocessorraw_2018-08-26T18:50:01.1161330Z.json',\n",
       " 'https://modawazedata.blob.core.windows.net/raw-upload/wazeprocessorraw_2018-07-18T23:42:01.0202407Z.json',\n",
       " 'https://modawazedata.blob.core.windows.net/raw-upload/wazeprocessorraw_2018-07-17T23:30:00.5957545Z.json',\n",
       " 'https://modawazedata.blob.core.windows.net/raw-upload/wazeprocessorraw_2018-08-06T19:34:00.4295036Z.json',\n",
       " 'https://modawazedata.blob.core.windows.net/raw-upload/wazeprocessorraw_2018-07-07T08:24:00.0891960Z.json',\n",
       " 'https://modawazedata.blob.core.windows.net/raw-upload/wazeprocessorraw_2018-07-17T09:54:00.7846777Z.json',\n",
       " 'https://modawazedata.blob.core.windows.net/raw-upload/wazeprocessorraw_2018-08-03T13:36:00.6624273Z.json',\n",
       " 'https://modawazedata.blob.core.windows.net/raw-upload/wazeprocessorraw_2018-09-29T10:30:00.8457029Z.json']"
      ]
     },
     "execution_count": 7,
     "metadata": {},
     "output_type": "execute_result"
    }
   ],
   "source": [
    "base_url = \"https://modawazedata.blob.core.windows.net/raw-upload/\"\n",
    "blobnames = list(set(blobnames))\n",
    "\n",
    "file_url_list = []\n",
    "for b in blobnames:\n",
    "    file_url_list.append(base_url + b)\n",
    "\n",
    "file_url_list[:10]"
   ]
  },
  {
   "cell_type": "code",
   "execution_count": 8,
   "metadata": {
    "colab": {},
    "colab_type": "code",
    "id": "hQer3QW5OLNG"
   },
   "outputs": [
    {
     "name": "stderr",
     "output_type": "stream",
     "text": [
      "/Users/Louis/Documents/4A/3_Semester/Capstone/Sandbox/capstone_env/lib/python3.6/site-packages/ipykernel_launcher.py:21: FutureWarning: Sorting because non-concatenation axis is not aligned. A future version\n",
      "of pandas will change to not sort by default.\n",
      "\n",
      "To accept the future behavior, pass 'sort=True'.\n",
      "\n",
      "To retain the current behavior and silence the warning, pass sort=False\n",
      "\n",
      "/Users/Louis/Documents/4A/3_Semester/Capstone/Sandbox/capstone_env/lib/python3.6/site-packages/ipykernel_launcher.py:22: FutureWarning: Sorting because non-concatenation axis is not aligned. A future version\n",
      "of pandas will change to not sort by default.\n",
      "\n",
      "To accept the future behavior, pass 'sort=True'.\n",
      "\n",
      "To retain the current behavior and silence the warning, pass sort=False\n",
      "\n"
     ]
    },
    {
     "name": "stdout",
     "output_type": "stream",
     "text": [
      "in jams\n",
      "\n"
     ]
    },
    {
     "name": "stderr",
     "output_type": "stream",
     "text": [
      "/Users/Louis/Documents/4A/3_Semester/Capstone/Sandbox/capstone_env/lib/python3.6/site-packages/pandas/core/frame.py:3778: SettingWithCopyWarning: \n",
      "A value is trying to be set on a copy of a slice from a DataFrame\n",
      "\n",
      "See the caveats in the documentation: http://pandas.pydata.org/pandas-docs/stable/indexing.html#indexing-view-versus-copy\n",
      "  return super(DataFrame, self).rename(**kwargs)\n"
     ]
    }
   ],
   "source": [
    "L1 = []\n",
    "L2 = []\n",
    "L3 = []\n",
    "import numpy as np\n",
    "for i in np.arange(100):\n",
    "    req = requests.get(file_url_list[i])\n",
    "    data = req.json()\n",
    "    with open('data.json','w') as f:\n",
    "        json.dump(data,f)\n",
    "    if 'alerts' in data.keys():\n",
    "        al = pd.DataFrame(data['alerts'])\n",
    "        L1.append(al)\n",
    "    if 'jams' in data.keys():\n",
    "        jm = pd.DataFrame(data['jams'])\n",
    "        L2.append(jm)\n",
    "    if 'irregularities' in data.keys():\n",
    "        irr = pd.DataFrame(data['irregularities'])\n",
    "        L3.append(irr)\n",
    "        \n",
    "al = pd.concat(L1)\n",
    "jm = pd.concat(L2)\n",
    "irr = pd.concat(L3)\n",
    "\n",
    "al = transform_alerts(al)\n",
    "jm = transform_jams(jm)\n",
    "irr = transform_irreg(irr)"
   ]
  },
  {
   "cell_type": "markdown",
   "metadata": {
    "colab_type": "text",
    "id": "CBKt3zgJOLNP"
   },
   "source": [
    "Any questions or suggestions, email, miwata@analytics.nyc.gov"
   ]
  },
  {
   "cell_type": "code",
   "execution_count": null,
   "metadata": {
    "colab": {},
    "colab_type": "code",
    "id": "4KLjYEBi79lI"
   },
   "outputs": [],
   "source": [
    "'''\n",
    "To do:\n",
    "- How to combine every records with stored filename\n",
    "- How to add new records from the feed as files are being ETL'd\n",
    "- How to append new records that come in\n",
    "'''"
   ]
  }
 ],
 "metadata": {
  "colab": {
   "collapsed_sections": [],
   "name": "00_GettingWazeData (1).ipynb",
   "provenance": [],
   "version": "0.3.2"
  },
  "kernelspec": {
   "display_name": "Python 3",
   "language": "python",
   "name": "python3"
  },
  "language_info": {
   "codemirror_mode": {
    "name": "ipython",
    "version": 3
   },
   "file_extension": ".py",
   "mimetype": "text/x-python",
   "name": "python",
   "nbconvert_exporter": "python",
   "pygments_lexer": "ipython3",
   "version": "3.6.5"
  }
 },
 "nbformat": 4,
 "nbformat_minor": 1
}
